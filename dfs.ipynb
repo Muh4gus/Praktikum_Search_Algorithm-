{
  "cells": [
    {
      "cell_type": "markdown",
      "metadata": {
        "id": "view-in-github",
        "colab_type": "text"
      },
      "source": [
        "<a href=\"https://colab.research.google.com/github/Muh4gus/Praktikum_Search_Algorithm-/blob/main/dfs.ipynb\" target=\"_parent\"><img src=\"https://colab.research.google.com/assets/colab-badge.svg\" alt=\"Open In Colab\"/></a>"
      ]
    },
    {
      "cell_type": "code",
      "source": [
        "#python3 program to print DFS travesrsal\n",
        "# from a given graph\n",
        "from collections import defaultdict\n",
        "\n",
        "# kelas ini mempresentasikan sebuah graf yang diarahkan\n",
        "# menggunakan representasi daftar kejadian\n",
        "#python3 program to print DFS travesrsal\n",
        "# from a given graph\n",
        "from collections import defaultdict\n",
        "\n",
        "# kelas ini mempresentasikan sebuah graf yang diarahkan\n",
        "# menggunakan representasi daftar kejadian\n",
        "class graph:\n",
        "  # konstruktor\n",
        "  def __init__(self):\n",
        "\n",
        "    # kamus default untuk menyimpan graf\n",
        "    self.graph = defaultdict(list)\n",
        "\n",
        "  # fungsi  untuk menambahkan tepi ke graf\n",
        "  def addEdge(self, u, v):\n",
        "    self.graph[u].append(v)\n",
        "\n",
        "  # fungsi yang digunakan oleh DFS\n",
        "  def DFSUtil(self, v, visited):\n",
        "\n",
        "    # tandai node saat ini sebagai sudah dikunjungi\n",
        "    # dan cetak\n",
        "\n",
        "    visited.add(v)\n",
        "    print(v, end= ' ')\n",
        "\n",
        "    # panggil rekursif untuk semua titik ujung\n",
        "    # yaang berdekatan dengan titik ini\n",
        "    for neighbour in self.graph[v]:\n",
        "      if neighbour not in visited:\n",
        "        self.DFSUtil(neighbour, visited)\n",
        "\n",
        "  # fungsi untuk  melakukan penelusuran DFS. ini menggunakan\n",
        "  #DFSUtil() rekuursif\n",
        "  def DFS(self, v):\n",
        "\n",
        "    # buat himpunan untuk menyimpan node yang sudah dikunjungi\n",
        "    visited = set()\n",
        "\n",
        "    # panggil fungis bantu rekursif\n",
        "    # untuk mencetak penelusuran DFS\n",
        "    self.DFSUtil(v, visited)\n",
        "\n",
        "# kode pengguna\n",
        "if __name__==\"__main__\":\n",
        "  g = graph()\n",
        "  g.addEdge(0, 1)\n",
        "  g.addEdge(0, 2)\n",
        "  g.addEdge(1, 2)\n",
        "  g.addEdge(2, 0)\n",
        "  g.addEdge(2, 3)\n",
        "  g.addEdge(3, 3)\n",
        "\n",
        "  print(\"berikut adalah penelusuran depth first (dimulai dari node 2)\")\n",
        "\n",
        "  # panggilan fungsi\n",
        "  g.DFS(2)"
      ],
      "metadata": {
        "id": "uITy7Gkoy3-C",
        "outputId": "171348a2-57d3-4535-eeeb-81d0ec6e0ab6",
        "colab": {
          "base_uri": "https://localhost:8080/"
        }
      },
      "execution_count": null,
      "outputs": [
        {
          "output_type": "stream",
          "name": "stdout",
          "text": [
            "berikut adalah penelusuran depth first (dimulai dari node 2)\n",
            "2 0 1 3 "
          ]
        }
      ]
    }
  ],
  "metadata": {
    "colab": {
      "toc_visible": true,
      "provenance": [],
      "include_colab_link": true
    },
    "kernelspec": {
      "display_name": "Python 3",
      "name": "python3"
    }
  },
  "nbformat": 4,
  "nbformat_minor": 0
}